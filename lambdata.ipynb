{
 "cells": [
  {
   "cell_type": "code",
   "execution_count": 4,
   "metadata": {},
   "outputs": [
    {
     "output_type": "stream",
     "name": "stdout",
     "text": "Looking in indexes: https://test.pypi.org/simple/\nCollecting lambdata-thomasmcdaniel91==4.0.2\n  Downloading https://test-files.pythonhosted.org/packages/97/3f/58d1e8501666f04419c30d8c44945c4afc22f3dcc388d52834ba08df4fb4/lambdata_thomasmcdaniel91-4.0.2-py3-none-any.whl (3.6 kB)\nInstalling collected packages: lambdata-thomasmcdaniel91\n  Attempting uninstall: lambdata-thomasmcdaniel91\n    Found existing installation: lambdata-thomasmcdaniel91 3.0.2\n    Uninstalling lambdata-thomasmcdaniel91-3.0.2:\n      Successfully uninstalled lambdata-thomasmcdaniel91-3.0.2\nSuccessfully installed lambdata-thomasmcdaniel91-4.0.2\nNote: you may need to restart the kernel to use updated packages.\n"
    }
   ],
   "source": [
    "pip install -i https://test.pypi.org/simple/ lambdata-thomasmcdaniel91==4.0.2"
   ]
  },
  {
   "cell_type": "code",
   "execution_count": 7,
   "metadata": {},
   "outputs": [],
   "source": [
    "from my_lambdata import helper"
   ]
  },
  {
   "cell_type": "code",
   "execution_count": 8,
   "metadata": {},
   "outputs": [
    {
     "output_type": "execute_result",
     "data": {
      "text/plain": "['Additions',\n '__builtins__',\n '__cached__',\n '__doc__',\n '__file__',\n '__loader__',\n '__name__',\n '__package__',\n '__spec__',\n 'df',\n 'names',\n 'pd']"
     },
     "metadata": {},
     "execution_count": 8
    }
   ],
   "source": [
    "dir(helper)"
   ]
  },
  {
   "cell_type": "code",
   "execution_count": 9,
   "metadata": {},
   "outputs": [
    {
     "output_type": "stream",
     "name": "stdout",
     "text": "Looking in indexes: https://test.pypi.org/simple/\nCollecting lambdata-mtoce\n  Downloading https://test-files.pythonhosted.org/packages/39/ce/34853a0cbddee6d572397c58b26177424c59db810f90fc9fe445b4c51aa8/lambdata_mtoce-1.0.1-py3-none-any.whl (5.9 kB)\nInstalling collected packages: lambdata-mtoce\nSuccessfully installed lambdata-mtoce-1.0.1\nNote: you may need to restart the kernel to use updated packages.\n"
    }
   ],
   "source": [
    "pip install -i https://test.pypi.org/simple/ lambdata-mtoce"
   ]
  },
  {
   "cell_type": "code",
   "execution_count": 17,
   "metadata": {},
   "outputs": [],
   "source": [
    "from my_lambdata.cm import c_matrix"
   ]
  },
  {
   "cell_type": "code",
   "execution_count": 18,
   "metadata": {},
   "outputs": [
    {
     "output_type": "stream",
     "name": "stdout",
     "text": "Predicted 0  Predicted 1  Predicted 2\nActual 0          3.0          0.0          0.0\nActual 1          0.0          1.0          2.0\nActual 2          2.0          1.0          3.0\n"
    }
   ],
   "source": [
    "y_actual = [2, 0, 2, 2, 0, 1, 1, 2, 2, 0, 1, 2]\n",
    "y_predicted = [0, 0, 2, 1, 0, 2, 1, 0, 2, 0, 2, 2]\n",
    "cm = c_matrix(y_true=y_actual, y_pred=y_predicted)\n",
    "cm2 = cm.confusion_matrix(y_true=y_actual, y_pred=y_predicted)\n",
    "print(cm2)"
   ]
  },
  {
   "cell_type": "code",
   "execution_count": null,
   "metadata": {},
   "outputs": [],
   "source": []
  }
 ],
 "metadata": {
  "language_info": {
   "codemirror_mode": {
    "name": "ipython",
    "version": 3
   },
   "file_extension": ".py",
   "mimetype": "text/x-python",
   "name": "python",
   "nbconvert_exporter": "python",
   "pygments_lexer": "ipython3",
   "version": "3.7.6-final"
  },
  "orig_nbformat": 2,
  "kernelspec": {
   "name": "python3",
   "display_name": "Python 3"
  }
 },
 "nbformat": 4,
 "nbformat_minor": 2
}